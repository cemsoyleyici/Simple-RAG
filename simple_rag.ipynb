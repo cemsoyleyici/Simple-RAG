{
 "cells": [
  {
   "cell_type": "code",
   "execution_count": 99,
   "metadata": {},
   "outputs": [],
   "source": [
    "import os\n",
    "import openai\n",
    "from langchain_openai import AzureOpenAIEmbeddings, AzureChatOpenAI\n",
    "from langchain_community.document_loaders import AzureAIDocumentIntelligenceLoader, PyPDFLoader\n",
    "from langchain.text_splitter import NLTKTextSplitter\n",
    "from langchain.memory import ConversationBufferMemory\n",
    "from langchain.chains import RetrievalQA\n",
    "from langchain.prompts import ChatPromptTemplate\n",
    "from langchain.vectorstores.faiss import FAISS\n",
    "from IPython.display import display, Markdown"
   ]
  },
  {
   "cell_type": "markdown",
   "metadata": {},
   "source": [
    "### Deploy the LLM\n",
    "You can change the model with OpenAI, Gemini, Llama, etc."
   ]
  },
  {
   "cell_type": "code",
   "execution_count": 2,
   "metadata": {},
   "outputs": [],
   "source": [
    "# API key for LLM\n",
    "AZURE_OPENAI_KEY = \"xxxxxxxxxxxxxxxxxxxx\" # change it with your own key\n",
    "os.environ['AZURE_OPENAI_KEY'] = AZURE_OPENAI_KEY\n",
    "openai.api_version = \"202x-xx-xx-preview\" # change it with your own version\n",
    "openai.azure_endpoint = \"https://xxxxx.openai.azure.com/\" # change it with your own endpoint\n",
    "\n",
    "model = \"gpt35turbo\" # deployment name on Azure OPENAI Studio\n",
    "myLLM = AzureChatOpenAI(azure_endpoint = openai.azure_endpoint, \n",
    "                            api_key=AZURE_OPENAI_KEY,  \n",
    "                            api_version=openai.api_version,\n",
    "                            temperature=0,\n",
    "                            streaming=True, \n",
    "                            model = model,)"
   ]
  },
  {
   "cell_type": "markdown",
   "metadata": {},
   "source": [
    "### Deploy the Parser\n",
    "You can change the PDF Loader with PyPDFLoader, LlamaParse, etc.\n",
    "\n",
    "Car Manuals: https://www.toyota.co.uk/customer/manuals"
   ]
  },
  {
   "cell_type": "code",
   "execution_count": 6,
   "metadata": {},
   "outputs": [],
   "source": [
    "# API key for loader\n",
    "key = \"xxxxxxxxxxxxxxxxxxxx\" # change it with your own loader key\n",
    "endpoint = \"https://xxxxxx.azure.com/\" # change it with your own loader endpoint\n",
    "\n",
    "# PDF Loader\n",
    "path = \"xxx.pdf\" # path of a manual that we used for RAG mode\n",
    "myPDFLoader = AzureAIDocumentIntelligenceLoader(\n",
    "        api_endpoint=endpoint, \n",
    "        api_key=key, \n",
    "        file_path=path, \n",
    "        api_model=\"prebuilt-layout\",\n",
    "        mode=\"page\"\n",
    "    )"
   ]
  },
  {
   "cell_type": "markdown",
   "metadata": {},
   "source": [
    "### Deploy the Embedding and Splitter\n",
    "You can also change the embedding model with OpenAI, Gecko, etc.\n",
    "\n",
    "Embedding Benchmark Table: https://huggingface.co/spaces/mteb/leaderboard"
   ]
  },
  {
   "cell_type": "code",
   "execution_count": 17,
   "metadata": {},
   "outputs": [],
   "source": [
    "# Embedding Model\n",
    "embedding_name = \"embedding3large\" # deployment name on Azure OPENAI Studio\n",
    "myEmbeddingModel = AzureOpenAIEmbeddings(azure_deployment=embedding_name,\n",
    "        azure_endpoint = openai.azure_endpoint, \n",
    "        api_key=AZURE_OPENAI_KEY,  \n",
    "        api_version=openai.api_version)\n",
    "\n",
    "# Splitter\n",
    "chunk_size = 1000\n",
    "chunk_overlap = 200\n",
    "language = \"english\"\n",
    "mySplitter = NLTKTextSplitter(chunk_size=chunk_size, \n",
    "                              chunk_overlap=chunk_overlap, \n",
    "                              add_start_index=True,\n",
    "                              language=language)"
   ]
  },
  {
   "cell_type": "markdown",
   "metadata": {},
   "source": [
    "### Load and Split the Document"
   ]
  },
  {
   "cell_type": "code",
   "execution_count": 12,
   "metadata": {},
   "outputs": [
    {
     "name": "stdout",
     "output_type": "stream",
     "text": [
      "Number of chunks before split:  712\n"
     ]
    },
    {
     "data": {
      "text/plain": [
       "[Document(page_content='1\\n65432\\n7\\n8\\nOwners Manual_Europe_M9A608_enPictorial index Search by illustration\\nFor safety \\nand securityMake sure to read through them\\n(Main topics: Child seat, theft deterrent system)\\nVehicle status information and indicatorsReading driving-related information\\n(Main topics: Meters, multi-information display)\\nBefore drivingOpening and closing the doors and windows, adjustment \\nbefore driving\\n(Main topics: Keys, doors, seats, power windows)\\nDrivingOperations and advice which are necessary for driving\\n(Main topics: Starting hybrid system, refueling)\\nInterior featuresUsage of the interior features\\n(Main topics: Air conditioner, storage features)\\nMaintenance \\nand careCaring for your vehicle and maintenance procedures\\n(Main topics: Interior and exterior, light bulbs)\\nWhen trouble arises What to do in case of malfunction and emergency\\n(Main topics: 12-volt battery discharge, flat tire)\\nVehicle specifications Vehicle specifications, customizable features\\n(Main topics: Fuel, oil, tire inflation pressure)\\nIndexSearch by symptom\\nSearch alphabetically\\nYaris Cross HEV\\nPZ49X-9A608-EN\\nL/O 15/04/2024', metadata={'source': '/root/ws/arvi/manuals/PZ49X-9A608-EN.pdf', 'page': 0}),\n",
       " Document(page_content='2\\nOwners Manual_Europe_M9A608_enTABLE OF CONTENTS\\nFor your information ........................ 7\\nReading this manual...................... 11\\nHow to search ............................... 12\\nPictorial index................................ 14\\n1-1. For safe use\\nBefore driving........................ 32\\nFor safe driving ..................... 33\\nSeat belts.............................. 35\\nSRS airbags.......................... 38\\nExhaust gas precautions ...... 44\\n1-2. Child safety\\nAirbag manual on-off system 46\\nRiding with children............... 47\\nChild restraint systems ......... 48\\n1-3. Emergency assistance\\neCall...................................... 65\\n1-4. Hybrid system\\nHybrid system features ......... 75\\nHybrid system precautions ... 80\\n1-5. Theft deterrent system\\nImmobilizer system ............... 85\\nDouble locking system.......... 86\\nAlarm .................................... 872-1. Instrument cluster\\nWarning lights and indicators 92\\nGauges and meters (7-inch dis-\\nplay).................................... 98\\nGauges and meters (12.3-inch \\ndisplay) ............................. 103\\nMulti-information display (7-inch \\ndisplay) ............................. 109\\nMulti-information display (12.3-\\ninch display)...................... 116\\nHead-up display.................. 124\\nEnergy monitor/consumption \\nscreen............................... 128\\n3-1. Key information\\nKeys.................................... 136\\nDigital Key........................... 140\\n3-2. Opening, closing and locking \\nthe doors\\nSide doors........................... 142\\nBack door............................ 147\\nSmart entry & start system . 159\\n3-3. Adjusting the seats\\nFront seats.......................... 164\\nRear seats .......................... 165\\nHead restraints ................... 1671For safety and security2Vehicle status information \\nand indicators\\n3Before driving', metadata={'source': '/root/ws/arvi/manuals/PZ49X-9A608-EN.pdf', 'page': 1}),\n",
       " Document(page_content='3\\nOwners Manual_Europe_M9A608_enTABLE OF CONTENTS\\n1\\n65432\\n873-4. Adjusting the steering wheel \\nand mirrors\\nSteering wheel.................... 171\\nInside rear view mirror ........ 172\\nOutside rear view mirrors.... 173\\n3-5. Opening and closing the win-\\ndows\\nPower windows................... 176\\n3-6. Favorite settings\\nMy Settings (vehicles with 10.5-\\ninch multimedia system) ... 179\\n4-1. Before driving\\nDriving the vehicle .............. 183\\nCargo and luggage ............. 189\\nTrailer towing ...................... 191\\n4-2. Driving procedures\\nPower (ignition) s witch (vehicles \\nwithout a smart entry & start \\nsystem) ............................. 197\\nPower (ignition) s witch (vehicles \\nwith a smart entry & start sys-\\ntem) .................................. 199\\nEV drive mode .................... 203\\nHybrid transmission ............ 205\\nTurn signal lever ................. 208\\nParking brake...................... 208\\nBrake Hold .......................... 2114-3. Operating the lights and wip-\\ners\\nHeadlight switch.................. 214\\nAHS (Adaptive High-beam Sys-\\ntem) .................................. 219\\nAHB (Automatic High Beam)\\n.......................................... 223\\nFog light switch................... 226\\nWindshield wipers and washer\\n.......................................... 227\\nRear window wiper and washer\\n.......................................... 230\\n4-4. Refueling\\nOpening the fuel tank cap... 2324Driving', metadata={'source': '/root/ws/arvi/manuals/PZ49X-9A608-EN.pdf', 'page': 2}),\n",
       " Document(page_content='4\\nOwners Manual_Europe_M9A608_enTABLE OF CONTENTS\\n4-5. Using the driving support sys-\\ntems\\nToyota Safety Sense software \\nupdate............................... 234\\nToyota Safety Sense........... 236\\nPCS (Pre-Collision System) 242\\nLTA (Lane Tracing Assist) ... 253\\nLDA (Lane Departure Alert) 258\\nPDA (Proactive driving assist)\\n.......................................... 263\\nRSA (Road Sign Assist)...... 269\\nDynamic radar cruise control\\n.......................................... 272\\nCruise control...................... 283\\nSpeed limiter....................... 286\\nEmergency Driving Stop System\\n.......................................... 289\\nBSM (Blind Spot Monitor) ... 291\\nSafe Exit Assist................... 296\\nToyota parking assist-sensor\\n.......................................... 300\\nRCTA (Rear Crossing Traffic \\nAlert) ................................. 310\\nRCD (Rear Camera Detection)\\n.......................................... 315\\nPKSB (Parking Support Brake)\\n.......................................... 319\\nParking Support Brake function \\n(static objects front and rear of \\nthe vehicle/static objects \\naround the vehicle) ........... 323\\nParking Support Brake function \\n(moving vehicles rear of the \\nvehicle) ............................. 327Parking Support Brake function \\n(pedestrians rear of the vehi-\\ncle).................................... 329\\nToyota Teammate Advanced \\nPark .................................. 331\\nDriving mode select switch . 357\\nTrail Mode (AWD vehicles) . 358\\nSnow mode (AWD vehicles) 359\\nDownhill assist control system \\n(AWD vehicles)................. 360\\nGPF (Gasoline Particulate Filter) \\nsystem .............................. 362\\nDriving assist systems ........ 363\\n4-6. Driving tips\\nHybrid electric vehicle driving \\ntips.................................... 369\\nWinter driving tips ............... 371\\n5-1. Using the air conditioning \\nsystem and defogger\\nAutomatic air conditioning sys-\\ntem.................................... 376\\nHeated steering wheel/seat \\nheaters.............................. 383\\n5-2. Using the interior lights\\nInterior lights list.................. 385\\n5-3. Using the storage features\\nList of storage features ....... 387\\nLuggage compartment features\\n.......................................... 390\\n5-4. Other interior features\\nOther interior features......... 3945Interior features', metadata={'source': '/root/ws/arvi/manuals/PZ49X-9A608-EN.pdf', 'page': 3}),\n",
       " Document(page_content='5\\nOwners Manual_Europe_M9A608_enTABLE OF CONTENTS\\n1\\n65432\\n876-1. Maintenance and care\\nCleaning and protecting the \\nvehicle exterior ................. 406\\nCleaning and protecting the \\nvehicle interior .................. 410\\n6-2. Maintenance\\nMaintenance requirements . 414\\n6-3. Do-it-yourself maintenance\\nDo-it-yourself service precau-\\ntions .................................. 416\\nHood ................................... 418\\nPositioning a floor jack........ 419\\nEngine compartment........... 421\\n12-volt battery..................... 426\\nTires.................................... 429\\nTire inflation pressure ......... 442\\nWheels................................ 443\\nAir conditioning filter ........... 445\\nCleaning the hybrid battery (trac-\\ntion battery) air intake vent 447\\nWireless remote control/elec-\\ntronic key battery .............. 450\\nChecking and replacing fuses\\n.......................................... 454\\nLight bulbs .......................... 4587-1. Essential information\\nEmergency flashers............ 466\\nIf your vehicle has to be stopped \\nin an emergency............... 467\\nIf the vehicle is submerged or \\nwater on the road is rising 468\\n7-2. Steps to take in an emergency\\nIf your vehicle needs to be towed\\n.......................................... 469\\nIf you think something is wrong\\n.......................................... 474\\nIf a warning light turns on or a \\nwarning buzzer sounds..... 475\\nIf a warning message is dis-\\nplayed ............................... 484\\nIf you have a flat tire (vehicles \\nwith an emergency tire punc-\\nture repair kit) ................... 491\\nIf you have a flat tire (vehicles \\nwith a spare tire)............... 502\\nIf the hybrid system will not start\\n.......................................... 511\\nIf you lose your keys........... 513\\nIf the electronic key does not \\noperate properly (vehicles with \\na smart entry & start system)\\n.......................................... 513\\nIf the 12-volt battery is dis-\\ncharged............................. 515\\nIf your vehicle overheats..... 520\\nIf the vehicle becomes stuck\\n.......................................... 5246Maintenance and care 7When trouble arises', metadata={'source': '/root/ws/arvi/manuals/PZ49X-9A608-EN.pdf', 'page': 4})]"
      ]
     },
     "execution_count": 12,
     "metadata": {},
     "output_type": "execute_result"
    }
   ],
   "source": [
    "documents = myPDFLoader.load()\n",
    "print(\"Number of chunks before split: \", len(documents))\n",
    "documents[0:5]"
   ]
  },
  {
   "cell_type": "code",
   "execution_count": 19,
   "metadata": {},
   "outputs": [
    {
     "name": "stdout",
     "output_type": "stream",
     "text": [
      "Number of chunks after split:  1457\n"
     ]
    },
    {
     "data": {
      "text/plain": [
       "[Document(page_content='1\\n65432\\n7\\n8\\nOwners Manual_Europe_M9A608_enPictorial index Search by illustration\\nFor safety \\nand securityMake sure to read through them\\n(Main topics: Child seat, theft deterrent system)\\nVehicle status information and indicatorsReading driving-related information\\n(Main topics: Meters, multi-information display)\\nBefore drivingOpening and closing the doors and windows, adjustment \\nbefore driving\\n(Main topics: Keys, doors, seats, power windows)\\nDrivingOperations and advice which are necessary for driving\\n(Main topics: Starting hybrid system, refueling)\\nInterior featuresUsage of the interior features\\n(Main topics: Air conditioner, storage features)\\nMaintenance \\nand careCaring for your vehicle and maintenance procedures\\n(Main topics: Interior and exterior, light bulbs)\\nWhen trouble arises What to do in case of malfunction and emergency\\n(Main topics: 12-volt battery discharge, flat tire)\\nVehicle specifications Vehicle specifications, customizable features\\n(Main topics: Fuel, oil, tire inflation pressure)\\nIndexSearch by symptom\\nSearch alphabetically\\nYaris Cross HEV\\nPZ49X-9A608-EN\\nL/O 15/04/2024', metadata={'source': '/root/ws/arvi/manuals/PZ49X-9A608-EN.pdf', 'page': 0, 'start_index': 0}),\n",
       " Document(page_content='2\\nOwners Manual_Europe_M9A608_enTABLE OF CONTENTS\\nFor your information ........................ 7\\nReading this manual...................... 11\\nHow to search ............................... 12\\nPictorial index................................ 14\\n1-1.\\n\\nFor safe use\\nBefore driving........................ 32\\nFor safe driving ..................... 33\\nSeat belts.............................. 35\\nSRS airbags.......................... 38\\nExhaust gas precautions ...... 44\\n1-2.\\n\\nChild safety\\nAirbag manual on-off system 46\\nRiding with children............... 47\\nChild restraint systems ......... 48\\n1-3.\\n\\nEmergency assistance\\neCall...................................... 65\\n1-4.\\n\\nHybrid system\\nHybrid system features ......... 75\\nHybrid system precautions ... 80\\n1-5.\\n\\nTheft deterrent system\\nImmobilizer system ............... 85\\nDouble locking system.......... 86\\nAlarm .................................... 872-1.', metadata={'source': '/root/ws/arvi/manuals/PZ49X-9A608-EN.pdf', 'page': 1, 'start_index': -1}),\n",
       " Document(page_content='Theft deterrent system\\nImmobilizer system ............... 85\\nDouble locking system.......... 86\\nAlarm .................................... 872-1.\\n\\nInstrument cluster\\nWarning lights and indicators 92\\nGauges and meters (7-inch dis-\\nplay).................................... 98\\nGauges and meters (12.3-inch \\ndisplay) ............................. 103\\nMulti-information display (7-inch \\ndisplay) ............................. 109\\nMulti-information display (12.3-\\ninch display)...................... 116\\nHead-up display.................. 124\\nEnergy monitor/consumption \\nscreen............................... 128\\n3-1.\\n\\nKey information\\nKeys.................................... 136\\nDigital Key........................... 140\\n3-2.\\n\\nOpening, closing and locking \\nthe doors\\nSide doors........................... 142\\nBack door............................ 147\\nSmart entry & start system .\\n\\n159\\n3-3.', metadata={'source': '/root/ws/arvi/manuals/PZ49X-9A608-EN.pdf', 'page': 1, 'start_index': -1}),\n",
       " Document(page_content='Opening, closing and locking \\nthe doors\\nSide doors........................... 142\\nBack door............................ 147\\nSmart entry & start system .\\n\\n159\\n3-3.\\n\\nAdjusting the seats\\nFront seats.......................... 164\\nRear seats .......................... 165\\nHead restraints ................... 1671For safety and security2Vehicle status information \\nand indicators\\n3Before driving', metadata={'source': '/root/ws/arvi/manuals/PZ49X-9A608-EN.pdf', 'page': 1, 'start_index': -1}),\n",
       " Document(page_content='3\\nOwners Manual_Europe_M9A608_enTABLE OF CONTENTS\\n1\\n65432\\n873-4.\\n\\nAdjusting the steering wheel \\nand mirrors\\nSteering wheel.................... 171\\nInside rear view mirror ........ 172\\nOutside rear view mirrors.... 173\\n3-5.\\n\\nOpening and closing the win-\\ndows\\nPower windows................... 176\\n3-6.\\n\\nFavorite settings\\nMy Settings (vehicles with 10.5-\\ninch multimedia system) ... 179\\n4-1.\\n\\nBefore driving\\nDriving the vehicle .............. 183\\nCargo and luggage ............. 189\\nTrailer towing ...................... 191\\n4-2.\\n\\nDriving procedures\\nPower (ignition) s witch (vehicles \\nwithout a smart entry & start \\nsystem) ............................. 197\\nPower (ignition) s witch (vehicles \\nwith a smart entry & start sys-\\ntem) .................................. 199\\nEV drive mode .................... 203\\nHybrid transmission ............ 205\\nTurn signal lever ................. 208\\nParking brake...................... 208\\nBrake Hold .......................... 2114-3.', metadata={'source': '/root/ws/arvi/manuals/PZ49X-9A608-EN.pdf', 'page': 2, 'start_index': -1})]"
      ]
     },
     "execution_count": 19,
     "metadata": {},
     "output_type": "execute_result"
    }
   ],
   "source": [
    "chunks = mySplitter.split_documents(documents)\n",
    "print(\"Number of chunks after split: \", len(chunks))\n",
    "chunks[0:5]"
   ]
  },
  {
   "cell_type": "markdown",
   "metadata": {},
   "source": [
    "### Create the Database and Save the Embedded Document"
   ]
  },
  {
   "cell_type": "code",
   "execution_count": 29,
   "metadata": {},
   "outputs": [],
   "source": [
    "def save_database(chunks, embeddingModel, name):\n",
    "    search_index = FAISS.from_documents(chunks, embeddingModel)\n",
    "\n",
    "    search_index.save_local(name)\n",
    "    \n",
    "def load_database(embeddingModel, name):\n",
    "    db = FAISS.load_local(name, embeddingModel, allow_dangerous_deserialization=True)\n",
    "    \n",
    "    return db\n",
    "\n",
    "name = path.split(\"/\")[-1].split(\".\")[0] + \"-vector-db\" # name of the database\n",
    "save_database(chunks=chunks, embeddingModel=myEmbeddingModel, name=name)\n"
   ]
  },
  {
   "cell_type": "code",
   "execution_count": 30,
   "metadata": {},
   "outputs": [],
   "source": [
    "# Once you save embedded documents to a database, you can load it after\n",
    "db = load_database(embeddingModel=myEmbeddingModel, name=name)"
   ]
  },
  {
   "cell_type": "markdown",
   "metadata": {},
   "source": [
    "### Deploy the retriever\n",
    "Document for search type: https://api.python.langchain.com/en/latest/vectorstores/langchain_core.vectorstores.VectorStore.html#langchain_core.vectorstores.VectorStore.as_retriever\n"
   ]
  },
  {
   "cell_type": "code",
   "execution_count": 31,
   "metadata": {},
   "outputs": [],
   "source": [
    "retriever = db.as_retriever(search_type=\"mmr\")"
   ]
  },
  {
   "cell_type": "markdown",
   "metadata": {},
   "source": [
    "### Create a Memory\n",
    "It keeps the history of the chat to ask relevent questions with previous ones."
   ]
  },
  {
   "cell_type": "code",
   "execution_count": 33,
   "metadata": {},
   "outputs": [],
   "source": [
    "memory = ConversationBufferMemory(memory_key=\"history\",\n",
    "                                  input_key=\"question\")\n"
   ]
  },
  {
   "cell_type": "markdown",
   "metadata": {},
   "source": [
    "### Create the Chat Template and the Prompt"
   ]
  },
  {
   "cell_type": "code",
   "execution_count": 35,
   "metadata": {},
   "outputs": [],
   "source": [
    "template = \"\"\"\n",
    "    You are a helpful service bot that provides people with information about their vehicles. \n",
    "    When answering questions in <<<<>>>, you will use only the information in the context, without using your prior knowledge. \n",
    "    Before answering, evaluate the relationship between context and question and don't use context that you don't want to include.\n",
    "    If the question is not in the context, you don't have to answer it.\n",
    "    \n",
    "    # Context: {context}\n",
    "    \n",
    "    # History: {history}\n",
    "    \n",
    "    <<<\n",
    "    Question: {question}\n",
    "    >>>\n",
    "    \n",
    "    # Answer:\n",
    "    \"\"\"\n",
    "    \n",
    "PROMPT = ChatPromptTemplate.from_template(template)"
   ]
  },
  {
   "cell_type": "markdown",
   "metadata": {},
   "source": [
    "### Deploy the RAG Model"
   ]
  },
  {
   "cell_type": "code",
   "execution_count": 36,
   "metadata": {},
   "outputs": [],
   "source": [
    "myRAGModel = RetrievalQA.from_chain_type(\n",
    "                llm=myLLM,\n",
    "                chain_type=\"stuff\",\n",
    "                retriever=retriever,\n",
    "                chain_type_kwargs={\"prompt\": PROMPT,\n",
    "                                   \"memory\": memory},\n",
    "                return_source_documents=True,\n",
    "                )"
   ]
  },
  {
   "cell_type": "code",
   "execution_count": 69,
   "metadata": {},
   "outputs": [],
   "source": [
    "# to print the result\n",
    "def print_result(query, result):\n",
    "  output_text = f\"\"\"### Question: \n",
    "  {query}\n",
    "  ### Answer: \n",
    "  {result['result']}\n",
    "  ### All relevant pages:\n",
    "  {', '.join(list(set([str(doc.metadata['page']) for doc in result['source_documents']])))}\n",
    "  \"\"\"\n",
    "  return(output_text)"
   ]
  },
  {
   "cell_type": "markdown",
   "metadata": {},
   "source": [
    "### Run the RAG Model"
   ]
  },
  {
   "cell_type": "code",
   "execution_count": 95,
   "metadata": {},
   "outputs": [
    {
     "data": {
      "text/markdown": [
       "### Question: \n",
       "  My car is dripping something dark on the floor, what that it means?\n",
       "  ### Answer: \n",
       "  If your car is dripping something dark on the floor, it could indicate an oil leak. It is important to have your vehicle checked by a professional to determine the source of the leak and to prevent any further damage.\n",
       "  ### All relevant pages:\n",
       "  422, 410, 414, 531\n",
       "  "
      ],
      "text/plain": [
       "<IPython.core.display.Markdown object>"
      ]
     },
     "metadata": {},
     "output_type": "display_data"
    }
   ],
   "source": [
    "q1 = \"My car is dripping something dark on the floor, what that it means?\"\n",
    "a1 = myRAGModel.invoke(q1)\n",
    "\n",
    "display(Markdown(print_result(q1, a1)))\n",
    "\n",
    "# you can see the source documents in a1"
   ]
  },
  {
   "cell_type": "code",
   "execution_count": 96,
   "metadata": {},
   "outputs": [
    {
     "data": {
      "text/markdown": [
       "### Question: \n",
       "  Where could be the source?\n",
       "  ### Answer: \n",
       "  The source of the oil leak could be various components in the vehicle's engine or transmission system. It is recommended to have your vehicle checked by a professional to accurately determine the source of the leak.\n",
       "  ### All relevant pages:\n",
       "  299, 9, 424, 153\n",
       "  "
      ],
      "text/plain": [
       "<IPython.core.display.Markdown object>"
      ]
     },
     "metadata": {},
     "output_type": "display_data"
    }
   ],
   "source": [
    "q2 = \"Where could be the source?\"\n",
    "a2 = myRAGModel.invoke(q2)\n",
    "\n",
    "display(Markdown(print_result(q2, a2)))"
   ]
  },
  {
   "cell_type": "code",
   "execution_count": 97,
   "metadata": {},
   "outputs": [],
   "source": [
    "# to clear the memory of the conversation\n",
    "memory.clear()"
   ]
  }
 ],
 "metadata": {
  "kernelspec": {
   "display_name": "genai-env",
   "language": "python",
   "name": "python3"
  },
  "language_info": {
   "codemirror_mode": {
    "name": "ipython",
    "version": 3
   },
   "file_extension": ".py",
   "mimetype": "text/x-python",
   "name": "python",
   "nbconvert_exporter": "python",
   "pygments_lexer": "ipython3",
   "version": "3.10.12"
  }
 },
 "nbformat": 4,
 "nbformat_minor": 2
}
